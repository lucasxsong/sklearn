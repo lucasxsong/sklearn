{
 "cells": [
  {
   "cell_type": "code",
   "execution_count": null,
   "metadata": {},
   "outputs": [],
   "source": [
    "from sklearn.neural_network import MLPClassifier\n",
    "from sklearn.datasets import fetch_openml\n",
    "import numpy as np\n",
    "import seaborn as sns\n",
    "import pandas as pd\n",
    "import matplotlib.pyplot as plt\n",
    "%matplotlib inline\n",
    "\n",
    "dataset = pd.read_csv('pima-indians-diabetes.csv')\n",
    "dataset.describe(include='all')\n",
    "\n",
    "sns.pairplot(dataset, hue='Clas')\n",
    "\n",
    "# dataset.head(2)\n",
    "\n",
    "\n",
    "# # imports keras for neural network\n",
    "# from keras import Sequential\n",
    "# from keras.layers import Dense\n",
    "\n",
    "# dataset = pd.read_csv('pima_indian_data.csv')\n",
    "\n",
    "# # adds neural network framework from keras\n",
    "# classifier = Sequential()\n",
    "# #First Hidden Layer (first hidden layer with relu nonlinearity)\n",
    "# classifier.add(Dense(4, activation='sigmoid', kernel_initializer='random_normal', input_dim=8))\n",
    "# #Second  Hidden Layer\n",
    "# classifier.add(Dense(4, activation='sigmoid', kernel_initializer='random_normal'))\n",
    "# #Output Layer\n",
    "# classifier.add(Dense(1, activation='sigmoid', kernel_initializer='random_normal'))\n"
   ]
  },
  {
   "cell_type": "code",
   "execution_count": null,
   "metadata": {},
   "outputs": [],
   "source": []
  }
 ],
 "metadata": {
  "kernelspec": {
   "display_name": "Python 3",
   "language": "python",
   "name": "python3"
  },
  "language_info": {
   "codemirror_mode": {
    "name": "ipython",
    "version": 3
   },
   "file_extension": ".py",
   "mimetype": "text/x-python",
   "name": "python",
   "nbconvert_exporter": "python",
   "pygments_lexer": "ipython3",
   "version": "3.7.1"
  }
 },
 "nbformat": 4,
 "nbformat_minor": 2
}
